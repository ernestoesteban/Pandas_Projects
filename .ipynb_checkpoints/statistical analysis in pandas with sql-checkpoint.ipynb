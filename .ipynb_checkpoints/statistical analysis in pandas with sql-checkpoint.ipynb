{
 "cells": [
  {
   "cell_type": "code",
   "execution_count": 193,
   "id": "519f2e7d",
   "metadata": {},
   "outputs": [],
   "source": [
    "import pyodbc\n",
    "import pandas as pd\n",
    "import scipy.stats as stats\n",
    "import warnings\n",
    "warnings.filterwarnings(\"ignore\")\n",
    "warnings.warn(\"this will not show\")"
   ]
  },
  {
   "cell_type": "markdown",
   "id": "4c6bdad8",
   "metadata": {},
   "source": [
    "### Windows Authentication"
   ]
  },
  {
   "cell_type": "code",
   "execution_count": 194,
   "id": "3427fce5",
   "metadata": {},
   "outputs": [],
   "source": [
    "conn_string = \"driver={ODBC Driver 17 for SQL Server}; server=localhost; database=master; TRUSTED_CONNECTION=yes;\"\n",
    "conn = pyodbc.connect(conn_string);\n",
    "crs = conn.cursor()\n",
    "conn.autocommit = True"
   ]
  },
  {
   "cell_type": "markdown",
   "id": "2eef9e93",
   "metadata": {},
   "source": [
    "### Create Query"
   ]
  },
  {
   "cell_type": "code",
   "execution_count": 195,
   "id": "c992963f",
   "metadata": {},
   "outputs": [],
   "source": [
    "def execute_query(conn, query):\n",
    "    crs = conn.cursor()\n",
    "    try:\n",
    "        crs.execute(query)\n",
    "        conn.commit()\n",
    "        print(\"Query Succeessful!\")\n",
    "    except Error as err:\n",
    "        print(f\"Error:'{err}'\")"
   ]
  },
  {
   "cell_type": "code",
   "execution_count": 196,
   "id": "5fb3b26b",
   "metadata": {},
   "outputs": [],
   "source": [
    "query = 'USE SampleRetail'"
   ]
  },
  {
   "cell_type": "code",
   "execution_count": 197,
   "id": "d3230ce6",
   "metadata": {},
   "outputs": [
    {
     "name": "stdout",
     "output_type": "stream",
     "text": [
      "Query Succeessful!\n"
     ]
    }
   ],
   "source": [
    "execute_query(conn, query)"
   ]
  },
  {
   "cell_type": "markdown",
   "id": "f2c40e6c",
   "metadata": {},
   "source": [
    "#### Introducing and Importing Data from SQL Database"
   ]
  },
  {
   "cell_type": "markdown",
   "id": "e3637756",
   "metadata": {},
   "source": [
    "Here is the data how looks like"
   ]
  },
  {
   "cell_type": "code",
   "execution_count": 198,
   "id": "c93f4928",
   "metadata": {},
   "outputs": [
    {
     "data": {
      "text/html": [
       "<div>\n",
       "<style scoped>\n",
       "    .dataframe tbody tr th:only-of-type {\n",
       "        vertical-align: middle;\n",
       "    }\n",
       "\n",
       "    .dataframe tbody tr th {\n",
       "        vertical-align: top;\n",
       "    }\n",
       "\n",
       "    .dataframe thead th {\n",
       "        text-align: right;\n",
       "    }\n",
       "</style>\n",
       "<table border=\"1\" class=\"dataframe\">\n",
       "  <thead>\n",
       "    <tr style=\"text-align: right;\">\n",
       "      <th></th>\n",
       "      <th>order_id</th>\n",
       "      <th>item_id</th>\n",
       "      <th>product_id</th>\n",
       "      <th>quantity</th>\n",
       "      <th>list_price</th>\n",
       "      <th>discount</th>\n",
       "    </tr>\n",
       "  </thead>\n",
       "  <tbody>\n",
       "    <tr>\n",
       "      <th>0</th>\n",
       "      <td>1</td>\n",
       "      <td>1</td>\n",
       "      <td>20</td>\n",
       "      <td>1</td>\n",
       "      <td>249.99</td>\n",
       "      <td>0.20</td>\n",
       "    </tr>\n",
       "    <tr>\n",
       "      <th>1</th>\n",
       "      <td>1</td>\n",
       "      <td>2</td>\n",
       "      <td>8</td>\n",
       "      <td>2</td>\n",
       "      <td>99.99</td>\n",
       "      <td>0.07</td>\n",
       "    </tr>\n",
       "    <tr>\n",
       "      <th>2</th>\n",
       "      <td>1</td>\n",
       "      <td>3</td>\n",
       "      <td>10</td>\n",
       "      <td>2</td>\n",
       "      <td>174.99</td>\n",
       "      <td>0.05</td>\n",
       "    </tr>\n",
       "    <tr>\n",
       "      <th>3</th>\n",
       "      <td>1</td>\n",
       "      <td>4</td>\n",
       "      <td>16</td>\n",
       "      <td>2</td>\n",
       "      <td>599.00</td>\n",
       "      <td>0.05</td>\n",
       "    </tr>\n",
       "    <tr>\n",
       "      <th>4</th>\n",
       "      <td>1</td>\n",
       "      <td>5</td>\n",
       "      <td>4</td>\n",
       "      <td>1</td>\n",
       "      <td>151.99</td>\n",
       "      <td>0.20</td>\n",
       "    </tr>\n",
       "    <tr>\n",
       "      <th>...</th>\n",
       "      <td>...</td>\n",
       "      <td>...</td>\n",
       "      <td>...</td>\n",
       "      <td>...</td>\n",
       "      <td>...</td>\n",
       "      <td>...</td>\n",
       "    </tr>\n",
       "    <tr>\n",
       "      <th>4717</th>\n",
       "      <td>1614</td>\n",
       "      <td>2</td>\n",
       "      <td>159</td>\n",
       "      <td>2</td>\n",
       "      <td>117.60</td>\n",
       "      <td>0.07</td>\n",
       "    </tr>\n",
       "    <tr>\n",
       "      <th>4718</th>\n",
       "      <td>1614</td>\n",
       "      <td>3</td>\n",
       "      <td>213</td>\n",
       "      <td>2</td>\n",
       "      <td>83.31</td>\n",
       "      <td>0.20</td>\n",
       "    </tr>\n",
       "    <tr>\n",
       "      <th>4719</th>\n",
       "      <td>1615</td>\n",
       "      <td>1</td>\n",
       "      <td>197</td>\n",
       "      <td>2</td>\n",
       "      <td>161.99</td>\n",
       "      <td>0.20</td>\n",
       "    </tr>\n",
       "    <tr>\n",
       "      <th>4720</th>\n",
       "      <td>1615</td>\n",
       "      <td>2</td>\n",
       "      <td>214</td>\n",
       "      <td>1</td>\n",
       "      <td>159.99</td>\n",
       "      <td>0.07</td>\n",
       "    </tr>\n",
       "    <tr>\n",
       "      <th>4721</th>\n",
       "      <td>1615</td>\n",
       "      <td>3</td>\n",
       "      <td>182</td>\n",
       "      <td>1</td>\n",
       "      <td>165.99</td>\n",
       "      <td>0.20</td>\n",
       "    </tr>\n",
       "  </tbody>\n",
       "</table>\n",
       "<p>4722 rows × 6 columns</p>\n",
       "</div>"
      ],
      "text/plain": [
       "      order_id  item_id  product_id  quantity  list_price  discount\n",
       "0            1        1          20         1      249.99      0.20\n",
       "1            1        2           8         2       99.99      0.07\n",
       "2            1        3          10         2      174.99      0.05\n",
       "3            1        4          16         2      599.00      0.05\n",
       "4            1        5           4         1      151.99      0.20\n",
       "...        ...      ...         ...       ...         ...       ...\n",
       "4717      1614        2         159         2      117.60      0.07\n",
       "4718      1614        3         213         2       83.31      0.20\n",
       "4719      1615        1         197         2      161.99      0.20\n",
       "4720      1615        2         214         1      159.99      0.07\n",
       "4721      1615        3         182         1      165.99      0.20\n",
       "\n",
       "[4722 rows x 6 columns]"
      ]
     },
     "execution_count": 198,
     "metadata": {},
     "output_type": "execute_result"
    }
   ],
   "source": [
    "pd.read_sql(\"SELECT * FROM sale.order_item\", con = conn)"
   ]
  },
  {
   "cell_type": "markdown",
   "id": "57536c97",
   "metadata": {},
   "source": [
    "#### Problem: whether the increase in the discount rate positively impacts the number of orders for the products"
   ]
  },
  {
   "cell_type": "markdown",
   "id": "52adba52",
   "metadata": {},
   "source": [
    "As shown below the aggregated table derived from the sql, we are trying to answer whether discounts effect the orders? "
   ]
  },
  {
   "cell_type": "code",
   "execution_count": 199,
   "id": "3e5020b1",
   "metadata": {},
   "outputs": [
    {
     "data": {
      "text/html": [
       "<div>\n",
       "<style scoped>\n",
       "    .dataframe tbody tr th:only-of-type {\n",
       "        vertical-align: middle;\n",
       "    }\n",
       "\n",
       "    .dataframe tbody tr th {\n",
       "        vertical-align: top;\n",
       "    }\n",
       "\n",
       "    .dataframe thead th {\n",
       "        text-align: right;\n",
       "    }\n",
       "</style>\n",
       "<table border=\"1\" class=\"dataframe\">\n",
       "  <thead>\n",
       "    <tr style=\"text-align: right;\">\n",
       "      <th></th>\n",
       "      <th>product_id</th>\n",
       "      <th>discount</th>\n",
       "      <th>total_quantity</th>\n",
       "    </tr>\n",
       "  </thead>\n",
       "  <tbody>\n",
       "    <tr>\n",
       "      <th>0</th>\n",
       "      <td>2</td>\n",
       "      <td>0.05</td>\n",
       "      <td>26</td>\n",
       "    </tr>\n",
       "    <tr>\n",
       "      <th>1</th>\n",
       "      <td>2</td>\n",
       "      <td>0.07</td>\n",
       "      <td>30</td>\n",
       "    </tr>\n",
       "    <tr>\n",
       "      <th>2</th>\n",
       "      <td>2</td>\n",
       "      <td>0.10</td>\n",
       "      <td>30</td>\n",
       "    </tr>\n",
       "    <tr>\n",
       "      <th>3</th>\n",
       "      <td>2</td>\n",
       "      <td>0.20</td>\n",
       "      <td>32</td>\n",
       "    </tr>\n",
       "    <tr>\n",
       "      <th>4</th>\n",
       "      <td>3</td>\n",
       "      <td>0.05</td>\n",
       "      <td>37</td>\n",
       "    </tr>\n",
       "    <tr>\n",
       "      <th>...</th>\n",
       "      <td>...</td>\n",
       "      <td>...</td>\n",
       "      <td>...</td>\n",
       "    </tr>\n",
       "    <tr>\n",
       "      <th>844</th>\n",
       "      <td>312</td>\n",
       "      <td>0.10</td>\n",
       "      <td>2</td>\n",
       "    </tr>\n",
       "    <tr>\n",
       "      <th>845</th>\n",
       "      <td>313</td>\n",
       "      <td>0.10</td>\n",
       "      <td>3</td>\n",
       "    </tr>\n",
       "    <tr>\n",
       "      <th>846</th>\n",
       "      <td>313</td>\n",
       "      <td>0.20</td>\n",
       "      <td>1</td>\n",
       "    </tr>\n",
       "    <tr>\n",
       "      <th>847</th>\n",
       "      <td>314</td>\n",
       "      <td>0.20</td>\n",
       "      <td>2</td>\n",
       "    </tr>\n",
       "    <tr>\n",
       "      <th>848</th>\n",
       "      <td>315</td>\n",
       "      <td>0.05</td>\n",
       "      <td>2</td>\n",
       "    </tr>\n",
       "  </tbody>\n",
       "</table>\n",
       "<p>849 rows × 3 columns</p>\n",
       "</div>"
      ],
      "text/plain": [
       "     product_id  discount  total_quantity\n",
       "0             2      0.05              26\n",
       "1             2      0.07              30\n",
       "2             2      0.10              30\n",
       "3             2      0.20              32\n",
       "4             3      0.05              37\n",
       "..          ...       ...             ...\n",
       "844         312      0.10               2\n",
       "845         313      0.10               3\n",
       "846         313      0.20               1\n",
       "847         314      0.20               2\n",
       "848         315      0.05               2\n",
       "\n",
       "[849 rows x 3 columns]"
      ]
     },
     "execution_count": 199,
     "metadata": {},
     "output_type": "execute_result"
    }
   ],
   "source": [
    "pd.read_sql(\"\"\"SELECT DISTINCT product_id, discount, \n",
    "                SUM(quantity) OVER(PARTITION BY product_id, discount) as total_quantity\n",
    "                FROM sale.order_item\"\"\"\n",
    "                , con = conn)"
   ]
  },
  {
   "cell_type": "markdown",
   "id": "c44d42cd",
   "metadata": {},
   "source": [
    "Let's get the table derived from the sql database to pandas dataframe"
   ]
  },
  {
   "cell_type": "code",
   "execution_count": 200,
   "id": "a1346ed2",
   "metadata": {},
   "outputs": [
    {
     "data": {
      "text/html": [
       "<div>\n",
       "<style scoped>\n",
       "    .dataframe tbody tr th:only-of-type {\n",
       "        vertical-align: middle;\n",
       "    }\n",
       "\n",
       "    .dataframe tbody tr th {\n",
       "        vertical-align: top;\n",
       "    }\n",
       "\n",
       "    .dataframe thead th {\n",
       "        text-align: right;\n",
       "    }\n",
       "</style>\n",
       "<table border=\"1\" class=\"dataframe\">\n",
       "  <thead>\n",
       "    <tr style=\"text-align: right;\">\n",
       "      <th></th>\n",
       "      <th>product_id</th>\n",
       "      <th>discount</th>\n",
       "      <th>quantity</th>\n",
       "    </tr>\n",
       "  </thead>\n",
       "  <tbody>\n",
       "    <tr>\n",
       "      <th>0</th>\n",
       "      <td>2</td>\n",
       "      <td>0.05</td>\n",
       "      <td>2</td>\n",
       "    </tr>\n",
       "    <tr>\n",
       "      <th>1</th>\n",
       "      <td>2</td>\n",
       "      <td>0.05</td>\n",
       "      <td>2</td>\n",
       "    </tr>\n",
       "    <tr>\n",
       "      <th>2</th>\n",
       "      <td>2</td>\n",
       "      <td>0.05</td>\n",
       "      <td>1</td>\n",
       "    </tr>\n",
       "    <tr>\n",
       "      <th>3</th>\n",
       "      <td>2</td>\n",
       "      <td>0.05</td>\n",
       "      <td>1</td>\n",
       "    </tr>\n",
       "    <tr>\n",
       "      <th>4</th>\n",
       "      <td>2</td>\n",
       "      <td>0.05</td>\n",
       "      <td>1</td>\n",
       "    </tr>\n",
       "    <tr>\n",
       "      <th>...</th>\n",
       "      <td>...</td>\n",
       "      <td>...</td>\n",
       "      <td>...</td>\n",
       "    </tr>\n",
       "    <tr>\n",
       "      <th>4717</th>\n",
       "      <td>313</td>\n",
       "      <td>0.10</td>\n",
       "      <td>1</td>\n",
       "    </tr>\n",
       "    <tr>\n",
       "      <th>4718</th>\n",
       "      <td>313</td>\n",
       "      <td>0.10</td>\n",
       "      <td>2</td>\n",
       "    </tr>\n",
       "    <tr>\n",
       "      <th>4719</th>\n",
       "      <td>313</td>\n",
       "      <td>0.20</td>\n",
       "      <td>1</td>\n",
       "    </tr>\n",
       "    <tr>\n",
       "      <th>4720</th>\n",
       "      <td>314</td>\n",
       "      <td>0.20</td>\n",
       "      <td>2</td>\n",
       "    </tr>\n",
       "    <tr>\n",
       "      <th>4721</th>\n",
       "      <td>315</td>\n",
       "      <td>0.05</td>\n",
       "      <td>2</td>\n",
       "    </tr>\n",
       "  </tbody>\n",
       "</table>\n",
       "<p>4722 rows × 3 columns</p>\n",
       "</div>"
      ],
      "text/plain": [
       "      product_id  discount  quantity\n",
       "0              2      0.05         2\n",
       "1              2      0.05         2\n",
       "2              2      0.05         1\n",
       "3              2      0.05         1\n",
       "4              2      0.05         1\n",
       "...          ...       ...       ...\n",
       "4717         313      0.10         1\n",
       "4718         313      0.10         2\n",
       "4719         313      0.20         1\n",
       "4720         314      0.20         2\n",
       "4721         315      0.05         2\n",
       "\n",
       "[4722 rows x 3 columns]"
      ]
     },
     "execution_count": 200,
     "metadata": {},
     "output_type": "execute_result"
    }
   ],
   "source": [
    "df = pd.read_sql(\"\"\"SELECT product_id, discount, quantity \n",
    "            FROM sale.order_item \n",
    "            ORDER BY product_id, discount\"\"\"\n",
    "            , con = conn)\n",
    "df"
   ]
  },
  {
   "cell_type": "code",
   "execution_count": 201,
   "id": "3403b9b8",
   "metadata": {},
   "outputs": [],
   "source": [
    "df_copy = df.copy()"
   ]
  },
  {
   "cell_type": "markdown",
   "id": "5ab91779",
   "metadata": {},
   "source": [
    "#### Solution 1: Disaggregated Approach by using statistical test comparing means"
   ]
  },
  {
   "cell_type": "markdown",
   "id": "dbe5b323",
   "metadata": {},
   "source": [
    "We have 307 products"
   ]
  },
  {
   "cell_type": "code",
   "execution_count": 202,
   "id": "e537d7ad",
   "metadata": {},
   "outputs": [
    {
     "data": {
      "text/plain": [
       "307"
      ]
     },
     "execution_count": 202,
     "metadata": {},
     "output_type": "execute_result"
    }
   ],
   "source": [
    "df[\"product_id\"].nunique()"
   ]
  },
  {
   "cell_type": "markdown",
   "id": "18743344",
   "metadata": {},
   "source": [
    "All of the orders contain only 1 or 2 counts of purchases"
   ]
  },
  {
   "cell_type": "code",
   "execution_count": 203,
   "id": "46a552ca",
   "metadata": {},
   "outputs": [
    {
     "data": {
      "text/plain": [
       "2    468\n",
       "1    381\n",
       "Name: quantity, dtype: int64"
      ]
     },
     "execution_count": 203,
     "metadata": {},
     "output_type": "execute_result"
    }
   ],
   "source": [
    "df.groupby([\"product_id\", \"discount\"])[\"quantity\"].nunique().value_counts()"
   ]
  },
  {
   "cell_type": "markdown",
   "id": "e85dae4e",
   "metadata": {},
   "source": [
    "Unique number of discount levels according to products are joining to data"
   ]
  },
  {
   "cell_type": "code",
   "execution_count": 204,
   "id": "2eea08ff",
   "metadata": {},
   "outputs": [
    {
     "data": {
      "text/html": [
       "<div>\n",
       "<style scoped>\n",
       "    .dataframe tbody tr th:only-of-type {\n",
       "        vertical-align: middle;\n",
       "    }\n",
       "\n",
       "    .dataframe tbody tr th {\n",
       "        vertical-align: top;\n",
       "    }\n",
       "\n",
       "    .dataframe thead th {\n",
       "        text-align: right;\n",
       "    }\n",
       "</style>\n",
       "<table border=\"1\" class=\"dataframe\">\n",
       "  <thead>\n",
       "    <tr style=\"text-align: right;\">\n",
       "      <th></th>\n",
       "      <th>product_id</th>\n",
       "      <th>count_discount</th>\n",
       "    </tr>\n",
       "  </thead>\n",
       "  <tbody>\n",
       "    <tr>\n",
       "      <th>0</th>\n",
       "      <td>2</td>\n",
       "      <td>4</td>\n",
       "    </tr>\n",
       "    <tr>\n",
       "      <th>1</th>\n",
       "      <td>3</td>\n",
       "      <td>4</td>\n",
       "    </tr>\n",
       "    <tr>\n",
       "      <th>2</th>\n",
       "      <td>4</td>\n",
       "      <td>4</td>\n",
       "    </tr>\n",
       "    <tr>\n",
       "      <th>3</th>\n",
       "      <td>5</td>\n",
       "      <td>4</td>\n",
       "    </tr>\n",
       "    <tr>\n",
       "      <th>4</th>\n",
       "      <td>6</td>\n",
       "      <td>4</td>\n",
       "    </tr>\n",
       "    <tr>\n",
       "      <th>...</th>\n",
       "      <td>...</td>\n",
       "      <td>...</td>\n",
       "    </tr>\n",
       "    <tr>\n",
       "      <th>302</th>\n",
       "      <td>311</td>\n",
       "      <td>2</td>\n",
       "    </tr>\n",
       "    <tr>\n",
       "      <th>303</th>\n",
       "      <td>312</td>\n",
       "      <td>1</td>\n",
       "    </tr>\n",
       "    <tr>\n",
       "      <th>304</th>\n",
       "      <td>313</td>\n",
       "      <td>2</td>\n",
       "    </tr>\n",
       "    <tr>\n",
       "      <th>305</th>\n",
       "      <td>314</td>\n",
       "      <td>1</td>\n",
       "    </tr>\n",
       "    <tr>\n",
       "      <th>306</th>\n",
       "      <td>315</td>\n",
       "      <td>1</td>\n",
       "    </tr>\n",
       "  </tbody>\n",
       "</table>\n",
       "<p>307 rows × 2 columns</p>\n",
       "</div>"
      ],
      "text/plain": [
       "     product_id  count_discount\n",
       "0             2               4\n",
       "1             3               4\n",
       "2             4               4\n",
       "3             5               4\n",
       "4             6               4\n",
       "..          ...             ...\n",
       "302         311               2\n",
       "303         312               1\n",
       "304         313               2\n",
       "305         314               1\n",
       "306         315               1\n",
       "\n",
       "[307 rows x 2 columns]"
      ]
     },
     "execution_count": 204,
     "metadata": {},
     "output_type": "execute_result"
    }
   ],
   "source": [
    "count_discount = pd.read_sql(\"\"\"SELECT product_id, COUNT(DISTINCT discount) as count_discount\n",
    "            FROM sale.order_item\n",
    "            GROUP BY product_id\n",
    "            ORDER BY product_id\"\"\"\n",
    "            , con = conn)\n",
    "count_discount"
   ]
  },
  {
   "cell_type": "markdown",
   "id": "0d25c2a2",
   "metadata": {},
   "source": [
    "Most of the products are offered to sale according to 4 different discount levels"
   ]
  },
  {
   "cell_type": "code",
   "execution_count": 205,
   "id": "611375a3",
   "metadata": {},
   "outputs": [
    {
     "data": {
      "text/plain": [
       "4    4098\n",
       "3     316\n",
       "2     231\n",
       "1      77\n",
       "Name: count_discount, dtype: int64"
      ]
     },
     "execution_count": 205,
     "metadata": {},
     "output_type": "execute_result"
    }
   ],
   "source": [
    "df = df.set_index('product_id').join(other = count_discount.set_index('product_id'), on = \"product_id\", how = \"left\", rsuffix = \"_other\")\n",
    "df[\"count_discount\"].value_counts()"
   ]
  },
  {
   "cell_type": "markdown",
   "id": "f6c81f97",
   "metadata": {},
   "source": [
    "Logs have only one level of discount are dropped from the data due to out of assessment"
   ]
  },
  {
   "cell_type": "code",
   "execution_count": 206,
   "id": "116f2a94",
   "metadata": {},
   "outputs": [
    {
     "name": "stdout",
     "output_type": "stream",
     "text": [
      "(4722, 3)\n"
     ]
    },
    {
     "data": {
      "text/plain": [
       "(4645, 3)"
      ]
     },
     "execution_count": 206,
     "metadata": {},
     "output_type": "execute_result"
    }
   ],
   "source": [
    "print(df.shape)\n",
    "df.drop(axis = 0, index = df[df[\"count_discount\"] < 2].index, inplace = True)\n",
    "df.shape"
   ]
  },
  {
   "cell_type": "markdown",
   "id": "3c5a294b",
   "metadata": {},
   "source": [
    "Most of the products according to discount levels have number of orders smaller than 5"
   ]
  },
  {
   "cell_type": "code",
   "execution_count": 207,
   "id": "7d6dd5c5",
   "metadata": {},
   "outputs": [
    {
     "data": {
      "text/plain": [
       "(0, 5]      540\n",
       "(5, 10]     145\n",
       "(10, 20]     33\n",
       "dtype: int64"
      ]
     },
     "execution_count": 207,
     "metadata": {},
     "output_type": "execute_result"
    }
   ],
   "source": [
    "pd.cut(df.groupby([\"product_id\", \"discount\"]).size().values, bins = [0,5,10,20]).value_counts()"
   ]
  },
  {
   "cell_type": "markdown",
   "id": "3e8f5fd9",
   "metadata": {},
   "source": [
    "number of orders by products and discount levels are joining to data"
   ]
  },
  {
   "cell_type": "code",
   "execution_count": 208,
   "id": "523f6548",
   "metadata": {},
   "outputs": [
    {
     "data": {
      "text/html": [
       "<div>\n",
       "<style scoped>\n",
       "    .dataframe tbody tr th:only-of-type {\n",
       "        vertical-align: middle;\n",
       "    }\n",
       "\n",
       "    .dataframe tbody tr th {\n",
       "        vertical-align: top;\n",
       "    }\n",
       "\n",
       "    .dataframe thead th {\n",
       "        text-align: right;\n",
       "    }\n",
       "</style>\n",
       "<table border=\"1\" class=\"dataframe\">\n",
       "  <thead>\n",
       "    <tr style=\"text-align: right;\">\n",
       "      <th></th>\n",
       "      <th>discount</th>\n",
       "      <th>quantity</th>\n",
       "      <th>count_discount</th>\n",
       "      <th>count_product_discount</th>\n",
       "    </tr>\n",
       "    <tr>\n",
       "      <th>product_id</th>\n",
       "      <th></th>\n",
       "      <th></th>\n",
       "      <th></th>\n",
       "      <th></th>\n",
       "    </tr>\n",
       "  </thead>\n",
       "  <tbody>\n",
       "    <tr>\n",
       "      <th>2</th>\n",
       "      <td>0.05</td>\n",
       "      <td>2</td>\n",
       "      <td>4</td>\n",
       "      <td>18</td>\n",
       "    </tr>\n",
       "    <tr>\n",
       "      <th>2</th>\n",
       "      <td>0.05</td>\n",
       "      <td>2</td>\n",
       "      <td>4</td>\n",
       "      <td>18</td>\n",
       "    </tr>\n",
       "    <tr>\n",
       "      <th>2</th>\n",
       "      <td>0.05</td>\n",
       "      <td>1</td>\n",
       "      <td>4</td>\n",
       "      <td>18</td>\n",
       "    </tr>\n",
       "    <tr>\n",
       "      <th>2</th>\n",
       "      <td>0.05</td>\n",
       "      <td>1</td>\n",
       "      <td>4</td>\n",
       "      <td>18</td>\n",
       "    </tr>\n",
       "    <tr>\n",
       "      <th>2</th>\n",
       "      <td>0.05</td>\n",
       "      <td>1</td>\n",
       "      <td>4</td>\n",
       "      <td>18</td>\n",
       "    </tr>\n",
       "    <tr>\n",
       "      <th>...</th>\n",
       "      <td>...</td>\n",
       "      <td>...</td>\n",
       "      <td>...</td>\n",
       "      <td>...</td>\n",
       "    </tr>\n",
       "    <tr>\n",
       "      <th>311</th>\n",
       "      <td>0.10</td>\n",
       "      <td>1</td>\n",
       "      <td>2</td>\n",
       "      <td>1</td>\n",
       "    </tr>\n",
       "    <tr>\n",
       "      <th>311</th>\n",
       "      <td>0.20</td>\n",
       "      <td>2</td>\n",
       "      <td>2</td>\n",
       "      <td>1</td>\n",
       "    </tr>\n",
       "    <tr>\n",
       "      <th>313</th>\n",
       "      <td>0.10</td>\n",
       "      <td>1</td>\n",
       "      <td>2</td>\n",
       "      <td>2</td>\n",
       "    </tr>\n",
       "    <tr>\n",
       "      <th>313</th>\n",
       "      <td>0.10</td>\n",
       "      <td>2</td>\n",
       "      <td>2</td>\n",
       "      <td>2</td>\n",
       "    </tr>\n",
       "    <tr>\n",
       "      <th>313</th>\n",
       "      <td>0.20</td>\n",
       "      <td>1</td>\n",
       "      <td>2</td>\n",
       "      <td>1</td>\n",
       "    </tr>\n",
       "  </tbody>\n",
       "</table>\n",
       "<p>4645 rows × 4 columns</p>\n",
       "</div>"
      ],
      "text/plain": [
       "            discount  quantity  count_discount  count_product_discount\n",
       "product_id                                                            \n",
       "2               0.05         2               4                      18\n",
       "2               0.05         2               4                      18\n",
       "2               0.05         1               4                      18\n",
       "2               0.05         1               4                      18\n",
       "2               0.05         1               4                      18\n",
       "...              ...       ...             ...                     ...\n",
       "311             0.10         1               2                       1\n",
       "311             0.20         2               2                       1\n",
       "313             0.10         1               2                       2\n",
       "313             0.10         2               2                       2\n",
       "313             0.20         1               2                       1\n",
       "\n",
       "[4645 rows x 4 columns]"
      ]
     },
     "execution_count": 208,
     "metadata": {},
     "output_type": "execute_result"
    }
   ],
   "source": [
    "df[\"count_product_discount\"] = df.groupby([\"product_id\", \"discount\"])[\"quantity\"].transform('size')\n",
    "df"
   ]
  },
  {
   "cell_type": "markdown",
   "id": "5b03bf4d",
   "metadata": {},
   "source": [
    "logs have number of orders smaller than 5 are dropped data for statistical tests"
   ]
  },
  {
   "cell_type": "code",
   "execution_count": 209,
   "id": "70b40325",
   "metadata": {},
   "outputs": [
    {
     "data": {
      "text/plain": [
       "(2416, 4)"
      ]
     },
     "execution_count": 209,
     "metadata": {},
     "output_type": "execute_result"
    }
   ],
   "source": [
    "df.drop(axis = 0, index = df[df[\"count_product_discount\"] < 6].index, inplace = True)\n",
    "df.shape"
   ]
  },
  {
   "cell_type": "code",
   "execution_count": 210,
   "id": "77db525f",
   "metadata": {},
   "outputs": [
    {
     "data": {
      "text/html": [
       "<div>\n",
       "<style scoped>\n",
       "    .dataframe tbody tr th:only-of-type {\n",
       "        vertical-align: middle;\n",
       "    }\n",
       "\n",
       "    .dataframe tbody tr th {\n",
       "        vertical-align: top;\n",
       "    }\n",
       "\n",
       "    .dataframe thead th {\n",
       "        text-align: right;\n",
       "    }\n",
       "</style>\n",
       "<table border=\"1\" class=\"dataframe\">\n",
       "  <thead>\n",
       "    <tr style=\"text-align: right;\">\n",
       "      <th></th>\n",
       "      <th>product_id</th>\n",
       "      <th>discount</th>\n",
       "      <th>quantity</th>\n",
       "      <th>count_discount</th>\n",
       "      <th>count_product_discount</th>\n",
       "    </tr>\n",
       "  </thead>\n",
       "  <tbody>\n",
       "    <tr>\n",
       "      <th>0</th>\n",
       "      <td>2</td>\n",
       "      <td>0.05</td>\n",
       "      <td>2</td>\n",
       "      <td>4</td>\n",
       "      <td>18</td>\n",
       "    </tr>\n",
       "    <tr>\n",
       "      <th>1</th>\n",
       "      <td>2</td>\n",
       "      <td>0.05</td>\n",
       "      <td>2</td>\n",
       "      <td>4</td>\n",
       "      <td>18</td>\n",
       "    </tr>\n",
       "    <tr>\n",
       "      <th>2</th>\n",
       "      <td>2</td>\n",
       "      <td>0.05</td>\n",
       "      <td>1</td>\n",
       "      <td>4</td>\n",
       "      <td>18</td>\n",
       "    </tr>\n",
       "    <tr>\n",
       "      <th>3</th>\n",
       "      <td>2</td>\n",
       "      <td>0.05</td>\n",
       "      <td>1</td>\n",
       "      <td>4</td>\n",
       "      <td>18</td>\n",
       "    </tr>\n",
       "    <tr>\n",
       "      <th>4</th>\n",
       "      <td>2</td>\n",
       "      <td>0.05</td>\n",
       "      <td>1</td>\n",
       "      <td>4</td>\n",
       "      <td>18</td>\n",
       "    </tr>\n",
       "    <tr>\n",
       "      <th>...</th>\n",
       "      <td>...</td>\n",
       "      <td>...</td>\n",
       "      <td>...</td>\n",
       "      <td>...</td>\n",
       "      <td>...</td>\n",
       "    </tr>\n",
       "    <tr>\n",
       "      <th>2411</th>\n",
       "      <td>101</td>\n",
       "      <td>0.20</td>\n",
       "      <td>2</td>\n",
       "      <td>4</td>\n",
       "      <td>7</td>\n",
       "    </tr>\n",
       "    <tr>\n",
       "      <th>2412</th>\n",
       "      <td>101</td>\n",
       "      <td>0.20</td>\n",
       "      <td>2</td>\n",
       "      <td>4</td>\n",
       "      <td>7</td>\n",
       "    </tr>\n",
       "    <tr>\n",
       "      <th>2413</th>\n",
       "      <td>101</td>\n",
       "      <td>0.20</td>\n",
       "      <td>1</td>\n",
       "      <td>4</td>\n",
       "      <td>7</td>\n",
       "    </tr>\n",
       "    <tr>\n",
       "      <th>2414</th>\n",
       "      <td>101</td>\n",
       "      <td>0.20</td>\n",
       "      <td>2</td>\n",
       "      <td>4</td>\n",
       "      <td>7</td>\n",
       "    </tr>\n",
       "    <tr>\n",
       "      <th>2415</th>\n",
       "      <td>101</td>\n",
       "      <td>0.20</td>\n",
       "      <td>2</td>\n",
       "      <td>4</td>\n",
       "      <td>7</td>\n",
       "    </tr>\n",
       "  </tbody>\n",
       "</table>\n",
       "<p>2416 rows × 5 columns</p>\n",
       "</div>"
      ],
      "text/plain": [
       "      product_id  discount  quantity  count_discount  count_product_discount\n",
       "0              2      0.05         2               4                      18\n",
       "1              2      0.05         2               4                      18\n",
       "2              2      0.05         1               4                      18\n",
       "3              2      0.05         1               4                      18\n",
       "4              2      0.05         1               4                      18\n",
       "...          ...       ...       ...             ...                     ...\n",
       "2411         101      0.20         2               4                       7\n",
       "2412         101      0.20         2               4                       7\n",
       "2413         101      0.20         1               4                       7\n",
       "2414         101      0.20         2               4                       7\n",
       "2415         101      0.20         2               4                       7\n",
       "\n",
       "[2416 rows x 5 columns]"
      ]
     },
     "execution_count": 210,
     "metadata": {},
     "output_type": "execute_result"
    }
   ],
   "source": [
    "df.reset_index(inplace = True)\n",
    "df"
   ]
  },
  {
   "cell_type": "markdown",
   "id": "0c3ff4e1",
   "metadata": {},
   "source": [
    "Here we have final data prior to statistical tests"
   ]
  },
  {
   "cell_type": "code",
   "execution_count": 211,
   "id": "463def6a",
   "metadata": {},
   "outputs": [
    {
     "name": "stdout",
     "output_type": "stream",
     "text": [
      "number of products: 29\n",
      "number of discounts levels in products to be tested: 114\n",
      "number of orders by discount levels:\n",
      " 4    2378\n",
      "3      38\n",
      "Name: count_discount, dtype: int64\n"
     ]
    }
   ],
   "source": [
    "print(f\"number of products: {df['product_id'].nunique()}\")\n",
    "print(f\"number of discounts levels in products to be tested: {len(df.groupby(['product_id', 'discount']).size())}\")\n",
    "print(f\"number of orders by discount levels:\\n {df['count_discount'].value_counts()}\")"
   ]
  },
  {
   "cell_type": "markdown",
   "id": "ec6f4b2d",
   "metadata": {},
   "source": [
    "#### Checking Assumptions prior to statistical tests"
   ]
  },
  {
   "cell_type": "markdown",
   "id": "80237910",
   "metadata": {},
   "source": [
    "Most of the testing groups have observation smaller than 30"
   ]
  },
  {
   "cell_type": "code",
   "execution_count": 213,
   "id": "b2eaf999",
   "metadata": {},
   "outputs": [
    {
     "data": {
      "text/plain": [
       "(5, 10]      14\n",
       "(10, 20]     25\n",
       "(20, 29]     69\n",
       "(29, 100]     6\n",
       "dtype: int64"
      ]
     },
     "execution_count": 213,
     "metadata": {},
     "output_type": "execute_result"
    }
   ],
   "source": [
    "pd.cut(df.groupby([\"product_id\", \"discount\"]).size().values, bins = [5,10,20,29,100]).value_counts()"
   ]
  },
  {
   "cell_type": "markdown",
   "id": "b09300c8",
   "metadata": {},
   "source": [
    "Checking normality by using One Sample Kolmogorov-Smirnov test.\n",
    "All of the testing groups are distirbuted non-normal"
   ]
  },
  {
   "cell_type": "code",
   "execution_count": 140,
   "id": "474da394",
   "metadata": {},
   "outputs": [
    {
     "data": {
      "text/plain": [
       "non-normal    114\n",
       "Name: KS-test, dtype: int64"
      ]
     },
     "execution_count": 140,
     "metadata": {},
     "output_type": "execute_result"
    }
   ],
   "source": [
    "alpha = 0.05\n",
    "index = pd.MultiIndex.from_tuples([('','')], names=[\"product_id\", \"discount_level\"])\n",
    "group = pd.DataFrame()\n",
    "group.index = index\n",
    "for product in df[\"product_id\"].unique():\n",
    "    for discount in df[\"discount\"].unique():\n",
    "        series = df[(df[\"product_id\"] == product) & (df[\"discount\"] == discount)][\"quantity\"]\n",
    "        if len(series)>0:\n",
    "            test_result = stats.kstest(series, 'norm').pvalue\n",
    "            result = 'non-normal' if test_result < alpha else 'normal'\n",
    "            group.loc[(str(product), str(discount)), 'KS-test'] = result\n",
    "group[\"KS-test\"].value_counts()"
   ]
  },
  {
   "cell_type": "markdown",
   "id": "02820660",
   "metadata": {},
   "source": [
    "According to the result of KS test. Kruskal-Wallis test is applied to test the difference of means by discount levels of products whether discounts effect are statistically important."
   ]
  },
  {
   "cell_type": "code",
   "execution_count": 136,
   "id": "db8a278d",
   "metadata": {},
   "outputs": [
    {
     "data": {
      "text/plain": [
       "group means are not different    26\n",
       "group means are different         3\n",
       "Name: KW, dtype: int64"
      ]
     },
     "execution_count": 136,
     "metadata": {},
     "output_type": "execute_result"
    }
   ],
   "source": [
    "alpha = 0.10\n",
    "results = pd.DataFrame()\n",
    "for product in df[\"product_id\"].unique():\n",
    "    groups = {category: numeric.tolist() for category, numeric in df[df[\"product_id\"] == product].groupby(\"discount\")[\"quantity\"]}\n",
    "    test_result = stats.kruskal(*groups.values()).pvalue\n",
    "    result = 'group means are different' if test_result < alpha else 'group means are not different'\n",
    "    results.loc[product, \"KW\"] = result\n",
    "results[\"KW\"].value_counts()"
   ]
  },
  {
   "cell_type": "code",
   "execution_count": 156,
   "id": "65ed135e",
   "metadata": {},
   "outputs": [
    {
     "data": {
      "text/html": [
       "<div>\n",
       "<style scoped>\n",
       "    .dataframe tbody tr th:only-of-type {\n",
       "        vertical-align: middle;\n",
       "    }\n",
       "\n",
       "    .dataframe tbody tr th {\n",
       "        vertical-align: top;\n",
       "    }\n",
       "\n",
       "    .dataframe thead th {\n",
       "        text-align: right;\n",
       "    }\n",
       "</style>\n",
       "<table border=\"1\" class=\"dataframe\">\n",
       "  <thead>\n",
       "    <tr style=\"text-align: right;\">\n",
       "      <th></th>\n",
       "      <th>product_id</th>\n",
       "      <th>discount</th>\n",
       "      <th>sum_quantity</th>\n",
       "      <th>avg_quantity</th>\n",
       "    </tr>\n",
       "  </thead>\n",
       "  <tbody>\n",
       "    <tr>\n",
       "      <th>0</th>\n",
       "      <td>2</td>\n",
       "      <td>0.05</td>\n",
       "      <td>26</td>\n",
       "      <td>1.444444</td>\n",
       "    </tr>\n",
       "    <tr>\n",
       "      <th>1</th>\n",
       "      <td>2</td>\n",
       "      <td>0.07</td>\n",
       "      <td>30</td>\n",
       "      <td>1.500000</td>\n",
       "    </tr>\n",
       "    <tr>\n",
       "      <th>2</th>\n",
       "      <td>2</td>\n",
       "      <td>0.10</td>\n",
       "      <td>30</td>\n",
       "      <td>1.666666</td>\n",
       "    </tr>\n",
       "    <tr>\n",
       "      <th>3</th>\n",
       "      <td>2</td>\n",
       "      <td>0.20</td>\n",
       "      <td>32</td>\n",
       "      <td>1.523809</td>\n",
       "    </tr>\n",
       "    <tr>\n",
       "      <th>4</th>\n",
       "      <td>3</td>\n",
       "      <td>0.05</td>\n",
       "      <td>37</td>\n",
       "      <td>1.370370</td>\n",
       "    </tr>\n",
       "    <tr>\n",
       "      <th>...</th>\n",
       "      <td>...</td>\n",
       "      <td>...</td>\n",
       "      <td>...</td>\n",
       "      <td>...</td>\n",
       "    </tr>\n",
       "    <tr>\n",
       "      <th>844</th>\n",
       "      <td>312</td>\n",
       "      <td>0.10</td>\n",
       "      <td>2</td>\n",
       "      <td>2.000000</td>\n",
       "    </tr>\n",
       "    <tr>\n",
       "      <th>845</th>\n",
       "      <td>313</td>\n",
       "      <td>0.10</td>\n",
       "      <td>3</td>\n",
       "      <td>1.500000</td>\n",
       "    </tr>\n",
       "    <tr>\n",
       "      <th>846</th>\n",
       "      <td>313</td>\n",
       "      <td>0.20</td>\n",
       "      <td>1</td>\n",
       "      <td>1.000000</td>\n",
       "    </tr>\n",
       "    <tr>\n",
       "      <th>847</th>\n",
       "      <td>314</td>\n",
       "      <td>0.20</td>\n",
       "      <td>2</td>\n",
       "      <td>2.000000</td>\n",
       "    </tr>\n",
       "    <tr>\n",
       "      <th>848</th>\n",
       "      <td>315</td>\n",
       "      <td>0.05</td>\n",
       "      <td>2</td>\n",
       "      <td>2.000000</td>\n",
       "    </tr>\n",
       "  </tbody>\n",
       "</table>\n",
       "<p>849 rows × 4 columns</p>\n",
       "</div>"
      ],
      "text/plain": [
       "     product_id  discount  sum_quantity  avg_quantity\n",
       "0             2      0.05            26      1.444444\n",
       "1             2      0.07            30      1.500000\n",
       "2             2      0.10            30      1.666666\n",
       "3             2      0.20            32      1.523809\n",
       "4             3      0.05            37      1.370370\n",
       "..          ...       ...           ...           ...\n",
       "844         312      0.10             2      2.000000\n",
       "845         313      0.10             3      1.500000\n",
       "846         313      0.20             1      1.000000\n",
       "847         314      0.20             2      2.000000\n",
       "848         315      0.05             2      2.000000\n",
       "\n",
       "[849 rows x 4 columns]"
      ]
     },
     "execution_count": 156,
     "metadata": {},
     "output_type": "execute_result"
    }
   ],
   "source": [
    "aggregated_data = pd.read_sql(\"\"\"SELECT product_id, discount, SUM(quantity) as sum_quantity,\n",
    "                                1.0*AVG(1.0*quantity) as avg_quantity\n",
    "                                FROM sale.order_item\n",
    "                                GROUP BY product_id, discount\n",
    "                                ORDER BY product_id, discount\"\"\"\n",
    "            , con = conn)\n",
    "aggregated_data"
   ]
  },
  {
   "cell_type": "markdown",
   "id": "bbbe297c",
   "metadata": {},
   "source": [
    "Discounts have statistically significant effect on only these 3 products out of 29 products tested. "
   ]
  },
  {
   "cell_type": "code",
   "execution_count": 151,
   "id": "e5aa8de2",
   "metadata": {},
   "outputs": [
    {
     "data": {
      "text/html": [
       "<div>\n",
       "<style scoped>\n",
       "    .dataframe tbody tr th:only-of-type {\n",
       "        vertical-align: middle;\n",
       "    }\n",
       "\n",
       "    .dataframe tbody tr th {\n",
       "        vertical-align: top;\n",
       "    }\n",
       "\n",
       "    .dataframe thead th {\n",
       "        text-align: right;\n",
       "    }\n",
       "</style>\n",
       "<table border=\"1\" class=\"dataframe\">\n",
       "  <thead>\n",
       "    <tr style=\"text-align: right;\">\n",
       "      <th></th>\n",
       "      <th>product_id</th>\n",
       "      <th>discount</th>\n",
       "      <th>sum_quantity</th>\n",
       "      <th>avg_quantity</th>\n",
       "    </tr>\n",
       "  </thead>\n",
       "  <tbody>\n",
       "    <tr>\n",
       "      <th>24</th>\n",
       "      <td>8</td>\n",
       "      <td>0.05</td>\n",
       "      <td>41</td>\n",
       "      <td>1.708333</td>\n",
       "    </tr>\n",
       "    <tr>\n",
       "      <th>25</th>\n",
       "      <td>8</td>\n",
       "      <td>0.07</td>\n",
       "      <td>28</td>\n",
       "      <td>1.333333</td>\n",
       "    </tr>\n",
       "    <tr>\n",
       "      <th>26</th>\n",
       "      <td>8</td>\n",
       "      <td>0.10</td>\n",
       "      <td>32</td>\n",
       "      <td>1.391304</td>\n",
       "    </tr>\n",
       "    <tr>\n",
       "      <th>27</th>\n",
       "      <td>8</td>\n",
       "      <td>0.20</td>\n",
       "      <td>24</td>\n",
       "      <td>1.411764</td>\n",
       "    </tr>\n",
       "    <tr>\n",
       "      <th>36</th>\n",
       "      <td>11</td>\n",
       "      <td>0.05</td>\n",
       "      <td>27</td>\n",
       "      <td>1.588235</td>\n",
       "    </tr>\n",
       "    <tr>\n",
       "      <th>37</th>\n",
       "      <td>11</td>\n",
       "      <td>0.07</td>\n",
       "      <td>45</td>\n",
       "      <td>1.730769</td>\n",
       "    </tr>\n",
       "    <tr>\n",
       "      <th>38</th>\n",
       "      <td>11</td>\n",
       "      <td>0.10</td>\n",
       "      <td>42</td>\n",
       "      <td>1.555555</td>\n",
       "    </tr>\n",
       "    <tr>\n",
       "      <th>39</th>\n",
       "      <td>11</td>\n",
       "      <td>0.20</td>\n",
       "      <td>37</td>\n",
       "      <td>1.370370</td>\n",
       "    </tr>\n",
       "    <tr>\n",
       "      <th>184</th>\n",
       "      <td>48</td>\n",
       "      <td>0.05</td>\n",
       "      <td>16</td>\n",
       "      <td>1.777777</td>\n",
       "    </tr>\n",
       "    <tr>\n",
       "      <th>185</th>\n",
       "      <td>48</td>\n",
       "      <td>0.07</td>\n",
       "      <td>8</td>\n",
       "      <td>1.333333</td>\n",
       "    </tr>\n",
       "    <tr>\n",
       "      <th>186</th>\n",
       "      <td>48</td>\n",
       "      <td>0.10</td>\n",
       "      <td>12</td>\n",
       "      <td>1.714285</td>\n",
       "    </tr>\n",
       "    <tr>\n",
       "      <th>187</th>\n",
       "      <td>48</td>\n",
       "      <td>0.20</td>\n",
       "      <td>6</td>\n",
       "      <td>1.000000</td>\n",
       "    </tr>\n",
       "  </tbody>\n",
       "</table>\n",
       "</div>"
      ],
      "text/plain": [
       "     product_id  discount  sum_quantity  avg_quantity\n",
       "24            8      0.05            41      1.708333\n",
       "25            8      0.07            28      1.333333\n",
       "26            8      0.10            32      1.391304\n",
       "27            8      0.20            24      1.411764\n",
       "36           11      0.05            27      1.588235\n",
       "37           11      0.07            45      1.730769\n",
       "38           11      0.10            42      1.555555\n",
       "39           11      0.20            37      1.370370\n",
       "184          48      0.05            16      1.777777\n",
       "185          48      0.07             8      1.333333\n",
       "186          48      0.10            12      1.714285\n",
       "187          48      0.20             6      1.000000"
      ]
     },
     "execution_count": 151,
     "metadata": {},
     "output_type": "execute_result"
    }
   ],
   "source": [
    "significance_index = results[results[\"KW\"] == \"group means are different\"].index\n",
    "aggregated_data[aggregated_data[\"product_id\"].isin(significance_index)]"
   ]
  },
  {
   "cell_type": "markdown",
   "id": "67d6ed1e",
   "metadata": {},
   "source": [
    "#### Result: To measure the effect of discounts on products, only 29 products can be tested out of 307 and 3 of them found to be statistically significant. Although the mean of purchases in different discount levels are statistically significant, there is no any evidence of whether discounts are positively or negatively effect purchases according to above table. These findings are not suprise because of the limited observation within the discount levels and limited variability in quantity of orders."
   ]
  },
  {
   "cell_type": "code",
   "execution_count": null,
   "id": "55348765",
   "metadata": {},
   "outputs": [],
   "source": []
  }
 ],
 "metadata": {
  "kernelspec": {
   "display_name": "Python 3 (ipykernel)",
   "language": "python",
   "name": "python3"
  },
  "language_info": {
   "codemirror_mode": {
    "name": "ipython",
    "version": 3
   },
   "file_extension": ".py",
   "mimetype": "text/x-python",
   "name": "python",
   "nbconvert_exporter": "python",
   "pygments_lexer": "ipython3",
   "version": "3.10.4"
  }
 },
 "nbformat": 4,
 "nbformat_minor": 5
}
