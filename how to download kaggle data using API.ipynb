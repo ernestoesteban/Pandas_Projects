{
 "cells": [
  {
   "cell_type": "code",
   "execution_count": null,
   "id": "11bf885e",
   "metadata": {},
   "outputs": [],
   "source": [
    "# This notebook simply demostrates how to download kaggle dataset using API\n",
    "\n",
    "# pip install kaggle\n",
    "# Go to the 'Account' tab of your user profile (https://www.kaggle.com/<username>/account) \n",
    "# Select 'Create API Token'. This will download the kaggle.json, a file containing your API credentials.\n",
    "# Place this file in the location on Windows C:\\Users\\<Windows-username>\\.kaggle\\kaggle.json"
   ]
  },
  {
   "cell_type": "code",
   "execution_count": 8,
   "id": "644a388d",
   "metadata": {},
   "outputs": [],
   "source": [
    "import kaggle\n",
    "\n",
    "kaggle.api.authenticate()"
   ]
  },
  {
   "cell_type": "code",
   "execution_count": 3,
   "id": "8a15017d",
   "metadata": {},
   "outputs": [
    {
     "name": "stdout",
     "output_type": "stream",
     "text": [
      "ref                                                  title                                       size  lastUpdated          downloadCount  voteCount  usabilityRating  \n",
      "---------------------------------------------------  -----------------------------------------  -----  -------------------  -------------  ---------  ---------------  \n",
      "ruchi798/data-science-job-salaries                   Data Science Job Salaries                    7KB  2022-06-15 08:59:12          20258        631  1.0              \n",
      "deepcontractor/mcdonalds-india-menu-nutrition-facts  McDonald's India : Menu Nutrition Dataset    5KB  2022-07-28 17:08:52           1380         86  0.9411765        \n",
      "gpreda/life-expectancy-in-europe-by-age-and-sex      Life Expectancy in Europe by Age and Sex     4MB  2022-08-12 15:28:01            512         28  1.0              \n",
      "arianazmoudeh/airbnbopendata                         Airbnb Open Data                            10MB  2022-08-01 15:58:10            999         34  0.9705882        \n",
      "nadzmiagthomas/australia-data-science-jobs           Australia Data Science Jobs                  2MB  2022-08-09 11:48:07            303         23  0.9705882        \n",
      "infamouscoder/dataset-netflix-shows                  Dataset: NetFlix Shows                       1MB  2022-08-11 05:05:41            426         33  1.0              \n",
      "himanshunakrani/student-study-hours                  Student Study Hours                         276B  2022-07-20 13:17:29           2017         69  1.0              \n",
      "nancyalaswad90/diamonds-prices                       Diamonds Prices                            711KB  2022-07-09 14:59:21           2426        104  1.0              \n",
      "zzettrkalpakbal/full-filled-brain-stroke-dataset     Brain stroke prediction dataset             52KB  2022-07-16 09:57:08           2407         70  0.9705882        \n",
      "reihanenamdari/breast-cancer                         Breast Cancer                               43KB  2022-08-08 19:25:55            395         30  1.0              \n",
      "dansbecker/melbourne-housing-snapshot                Melbourne Housing Snapshot                 451KB  2018-06-05 12:52:24          93174       1122  0.7058824        \n",
      "jpmiller/employee-attrition-for-healthcare           Employee Attrition for Healthcare           59KB  2022-08-10 22:34:29            523         33  0.9705882        \n",
      "ramjasmaurya/commonwealth-games-2022                 Commonwealth Games 2022                     80KB  2022-08-09 03:00:59            341         26  1.0              \n",
      "jillanisofttech/brain-stroke-dataset                 Brain Stroke Dataset                        47KB  2022-08-04 18:02:56            922         34  0.9705882        \n",
      "faryarmemon/usa-housing-market-factors               U.S. Housing Market Factors                 32KB  2022-08-03 02:19:31            556         38  1.0              \n",
      "surajjha101/countries-olympics-medals-since-1896     Countries Olympics Medals since 1896         4KB  2022-07-27 06:39:06            877         52  1.0              \n",
      "datasnaek/youtube-new                                Trending YouTube Video Statistics          201MB  2019-06-03 00:56:47         181528       4632  0.7941176        \n",
      "zynicide/wine-reviews                                Wine Reviews                                51MB  2017-11-27 17:08:04         164551       3351  0.7941176        \n",
      "erqizhou/students-data-analysis                      Students Data Analysis                       2KB  2022-07-20 03:54:13           1089         37  1.0              \n",
      "datasnaek/chess                                      Chess Game Dataset (Lichess)                 3MB  2017-09-04 03:09:09          30851       1032  0.8235294        \n"
     ]
    }
   ],
   "source": [
    "# standart kaggle datasets list command. For more information go to https://github.com/Kaggle/kaggle-api\n",
    "\n",
    "!kaggle datasets list"
   ]
  },
  {
   "cell_type": "code",
   "execution_count": 15,
   "id": "a305d584",
   "metadata": {},
   "outputs": [
    {
     "name": "stdout",
     "output_type": "stream",
     "text": [
      "ref                                                 title                                           size  lastUpdated          downloadCount  voteCount  usabilityRating  \n",
      "--------------------------------------------------  ---------------------------------------------  -----  -------------------  -------------  ---------  ---------------  \n",
      "heptapod/titanic                                    Titanic                                         11KB  2017-05-16 08:14:22          42511        814  0.7058824        \n",
      "brendan45774/test-file                              Titanic dataset                                 11KB  2021-12-02 16:11:42          26750        318  1.0              \n",
      "azeembootwala/titanic                               Titanic                                         12KB  2017-06-05 12:14:37          14162        152  0.8235294        \n",
      "rahulsah06/titanic                                  Titanic                                         34KB  2019-09-16 14:43:23           4170         54  0.6764706        \n",
      "prkukunoor/TitanicDataset                           Titanic                                        135KB  2017-01-03 22:01:13           4849         25  0.5882353        \n",
      "fossouodonald/titaniccsv                            Titanic csv                                      1KB  2016-11-07 09:44:58           9624         61  0.5882353        \n",
      "hesh97/titanicdataset-traincsv                      Titanic-Dataset (train.csv)                     22KB  2018-02-02 04:51:06          57667        388  0.4117647        \n",
      "yasserh/titanic-dataset                             Titanic Dataset                                 22KB  2021-12-24 14:53:06           1768         28  1.0              \n",
      "broaniki/titanic                                    titanic                                        717KB  2018-01-30 04:08:45           8077        129  0.1764706        \n",
      "jamesleslie/titanic-cleaned-data                    Titanic: cleaned data                           36KB  2018-11-21 11:50:18           5183         59  0.7647059        \n",
      "pavlofesenko/titanic-extended                       Titanic extended dataset (Kaggle + Wikipedia)  134KB  2019-03-06 09:53:24           9548        133  0.9411765        \n",
      "kittisaks/testtitanic                               test titanic                                    22KB  2017-03-13 15:13:12           1709         33  0.64705884       \n",
      "abhinavralhan/titanic                               titanic                                         22KB  2017-07-30 11:07:55            650         12  0.8235294        \n",
      "cities/titanic123                                   Titanic Dataset Analysis                        22KB  2017-02-07 23:15:54           1687         31  0.5294118        \n",
      "ibrahimelsayed182/titanic-dataset                   Titanic dataset                                  6KB  2022-01-27 07:41:54            435         11  1.0              \n",
      "brendan45774/gender-submisson                       Titanic: all ones csv file                      942B  2021-02-12 19:18:32            618         38  0.9411765        \n",
      "harunshimanto/titanic-solution-for-beginners-guide  Titanic Solution for Beginner's Guide           34KB  2018-03-12 17:47:06           1488         23  0.7058824        \n",
      "vinicius150987/titanic3                             The Complete Titanic Dataset                   277KB  2020-01-04 18:24:11           1981         28  0.64705884       \n",
      "sureshbhusare/titanic-dataset-from-kaggle           Titanic DataSet from Kaggle                     33KB  2017-10-12 04:49:39           2801         28  0.4117647        \n",
      "shravanbangera/output                               Titanic Dataset                                  2KB  2020-09-25 05:28:42            153         10  1.0              \n"
     ]
    }
   ],
   "source": [
    "# you can search spesific data topics by using -s flag\n",
    "\n",
    "!kaggle datasets list -s titanic"
   ]
  },
  {
   "cell_type": "code",
   "execution_count": 16,
   "id": "12076f43",
   "metadata": {},
   "outputs": [
    {
     "name": "stdout",
     "output_type": "stream",
     "text": [
      "name                  size  creationDate         \n",
      "-------------------  -----  -------------------  \n",
      "Titanic_Data-2.html  382KB  2017-01-03 22:01:13  \n",
      "titanic_data.csv      60KB  2017-01-03 22:01:13  \n"
     ]
    }
   ],
   "source": [
    "# Let's list sample dataset files from above list\n",
    "\n",
    "!kaggle datasets files prkukunoor/TitanicDataset"
   ]
  },
  {
   "cell_type": "code",
   "execution_count": 12,
   "id": "141adf0d",
   "metadata": {},
   "outputs": [
    {
     "data": {
      "text/plain": [
       "True"
      ]
     },
     "execution_count": 12,
     "metadata": {},
     "output_type": "execute_result"
    }
   ],
   "source": [
    "# Let's download second dataset file from the above dataset.\n",
    "\n",
    "kaggle.api.dataset_download_file('prkukunoor/TitanicDataset', file_name='titanic_data.csv',  path='data/')\n",
    "\n",
    "# dataset was downloaded under the data folder where your jupyter notebook file located."
   ]
  },
  {
   "cell_type": "code",
   "execution_count": 11,
   "id": "b3736635",
   "metadata": {},
   "outputs": [
    {
     "data": {
      "text/html": [
       "<div>\n",
       "<style scoped>\n",
       "    .dataframe tbody tr th:only-of-type {\n",
       "        vertical-align: middle;\n",
       "    }\n",
       "\n",
       "    .dataframe tbody tr th {\n",
       "        vertical-align: top;\n",
       "    }\n",
       "\n",
       "    .dataframe thead th {\n",
       "        text-align: right;\n",
       "    }\n",
       "</style>\n",
       "<table border=\"1\" class=\"dataframe\">\n",
       "  <thead>\n",
       "    <tr style=\"text-align: right;\">\n",
       "      <th></th>\n",
       "      <th>PassengerId</th>\n",
       "      <th>Survived</th>\n",
       "      <th>Pclass</th>\n",
       "      <th>Name</th>\n",
       "      <th>Sex</th>\n",
       "      <th>Age</th>\n",
       "      <th>SibSp</th>\n",
       "      <th>Parch</th>\n",
       "      <th>Ticket</th>\n",
       "      <th>Fare</th>\n",
       "      <th>Cabin</th>\n",
       "      <th>Embarked</th>\n",
       "    </tr>\n",
       "  </thead>\n",
       "  <tbody>\n",
       "    <tr>\n",
       "      <th>0</th>\n",
       "      <td>1</td>\n",
       "      <td>0</td>\n",
       "      <td>3</td>\n",
       "      <td>Braund, Mr. Owen Harris</td>\n",
       "      <td>male</td>\n",
       "      <td>22.0</td>\n",
       "      <td>1</td>\n",
       "      <td>0</td>\n",
       "      <td>A/5 21171</td>\n",
       "      <td>7.2500</td>\n",
       "      <td>NaN</td>\n",
       "      <td>S</td>\n",
       "    </tr>\n",
       "    <tr>\n",
       "      <th>1</th>\n",
       "      <td>2</td>\n",
       "      <td>1</td>\n",
       "      <td>1</td>\n",
       "      <td>Cumings, Mrs. John Bradley (Florence Briggs Th...</td>\n",
       "      <td>female</td>\n",
       "      <td>38.0</td>\n",
       "      <td>1</td>\n",
       "      <td>0</td>\n",
       "      <td>PC 17599</td>\n",
       "      <td>71.2833</td>\n",
       "      <td>C85</td>\n",
       "      <td>C</td>\n",
       "    </tr>\n",
       "    <tr>\n",
       "      <th>2</th>\n",
       "      <td>3</td>\n",
       "      <td>1</td>\n",
       "      <td>3</td>\n",
       "      <td>Heikkinen, Miss. Laina</td>\n",
       "      <td>female</td>\n",
       "      <td>26.0</td>\n",
       "      <td>0</td>\n",
       "      <td>0</td>\n",
       "      <td>STON/O2. 3101282</td>\n",
       "      <td>7.9250</td>\n",
       "      <td>NaN</td>\n",
       "      <td>S</td>\n",
       "    </tr>\n",
       "    <tr>\n",
       "      <th>3</th>\n",
       "      <td>4</td>\n",
       "      <td>1</td>\n",
       "      <td>1</td>\n",
       "      <td>Futrelle, Mrs. Jacques Heath (Lily May Peel)</td>\n",
       "      <td>female</td>\n",
       "      <td>35.0</td>\n",
       "      <td>1</td>\n",
       "      <td>0</td>\n",
       "      <td>113803</td>\n",
       "      <td>53.1000</td>\n",
       "      <td>C123</td>\n",
       "      <td>S</td>\n",
       "    </tr>\n",
       "    <tr>\n",
       "      <th>4</th>\n",
       "      <td>5</td>\n",
       "      <td>0</td>\n",
       "      <td>3</td>\n",
       "      <td>Allen, Mr. William Henry</td>\n",
       "      <td>male</td>\n",
       "      <td>35.0</td>\n",
       "      <td>0</td>\n",
       "      <td>0</td>\n",
       "      <td>373450</td>\n",
       "      <td>8.0500</td>\n",
       "      <td>NaN</td>\n",
       "      <td>S</td>\n",
       "    </tr>\n",
       "  </tbody>\n",
       "</table>\n",
       "</div>"
      ],
      "text/plain": [
       "   PassengerId  Survived  Pclass  \\\n",
       "0            1         0       3   \n",
       "1            2         1       1   \n",
       "2            3         1       3   \n",
       "3            4         1       1   \n",
       "4            5         0       3   \n",
       "\n",
       "                                                Name     Sex   Age  SibSp  \\\n",
       "0                            Braund, Mr. Owen Harris    male  22.0      1   \n",
       "1  Cumings, Mrs. John Bradley (Florence Briggs Th...  female  38.0      1   \n",
       "2                             Heikkinen, Miss. Laina  female  26.0      0   \n",
       "3       Futrelle, Mrs. Jacques Heath (Lily May Peel)  female  35.0      1   \n",
       "4                           Allen, Mr. William Henry    male  35.0      0   \n",
       "\n",
       "   Parch            Ticket     Fare Cabin Embarked  \n",
       "0      0         A/5 21171   7.2500   NaN        S  \n",
       "1      0          PC 17599  71.2833   C85        C  \n",
       "2      0  STON/O2. 3101282   7.9250   NaN        S  \n",
       "3      0            113803  53.1000  C123        S  \n",
       "4      0            373450   8.0500   NaN        S  "
      ]
     },
     "execution_count": 11,
     "metadata": {},
     "output_type": "execute_result"
    }
   ],
   "source": [
    "import pandas as pd\n",
    "df = pd.read_csv(\"data/titanic_data.csv\")\n",
    "df.head()"
   ]
  },
  {
   "cell_type": "code",
   "execution_count": 13,
   "id": "1b77e4ff",
   "metadata": {},
   "outputs": [
    {
     "data": {
      "text/plain": [
       "(891, 12)"
      ]
     },
     "execution_count": 13,
     "metadata": {},
     "output_type": "execute_result"
    }
   ],
   "source": [
    "df.shape"
   ]
  },
  {
   "cell_type": "code",
   "execution_count": null,
   "id": "b4035fa5",
   "metadata": {},
   "outputs": [],
   "source": []
  }
 ],
 "metadata": {
  "kernelspec": {
   "display_name": "Python 3 (ipykernel)",
   "language": "python",
   "name": "python3"
  },
  "language_info": {
   "codemirror_mode": {
    "name": "ipython",
    "version": 3
   },
   "file_extension": ".py",
   "mimetype": "text/x-python",
   "name": "python",
   "nbconvert_exporter": "python",
   "pygments_lexer": "ipython3",
   "version": "3.10.4"
  }
 },
 "nbformat": 4,
 "nbformat_minor": 5
}
